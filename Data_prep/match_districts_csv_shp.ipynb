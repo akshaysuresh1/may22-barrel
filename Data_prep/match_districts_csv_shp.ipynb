{
 "cells": [
  {
   "cell_type": "markdown",
   "id": "4ee0042e",
   "metadata": {},
   "source": [
    "### Match district names in `rice_yield.csv` to district names in shapefile\n",
    "\n",
    "Let us first load a shapefile of Indian districts in 2020. As we will see, district names in the shape file are marginally different from those in our agriculture data set `rice_yield.csv`. We will manually correct such discrepancies to ease our life going forward."
   ]
  },
  {
   "cell_type": "code",
   "execution_count": 1,
   "id": "fa317c29",
   "metadata": {},
   "outputs": [],
   "source": [
    "# Load relevant packages.\n",
    "import numpy as np\n",
    "import pandas as pd\n",
    "import geopandas as gpd\n",
    "import matplotlib.pyplot as plt"
   ]
  },
  {
   "cell_type": "code",
   "execution_count": 2,
   "id": "9c5a5097",
   "metadata": {},
   "outputs": [],
   "source": [
    "# Load shapefile of Indian districts.\n",
    "shp = gpd.read_file('../Raw_data/India_districts2020.shp')"
   ]
  },
  {
   "cell_type": "code",
   "execution_count": 3,
   "id": "f2ee642c",
   "metadata": {},
   "outputs": [
    {
     "data": {
      "text/html": [
       "<div>\n",
       "<style scoped>\n",
       "    .dataframe tbody tr th:only-of-type {\n",
       "        vertical-align: middle;\n",
       "    }\n",
       "\n",
       "    .dataframe tbody tr th {\n",
       "        vertical-align: top;\n",
       "    }\n",
       "\n",
       "    .dataframe thead th {\n",
       "        text-align: right;\n",
       "    }\n",
       "</style>\n",
       "<table border=\"1\" class=\"dataframe\">\n",
       "  <thead>\n",
       "    <tr style=\"text-align: right;\">\n",
       "      <th></th>\n",
       "      <th>objectid</th>\n",
       "      <th>statecode</th>\n",
       "      <th>statename</th>\n",
       "      <th>state_ut</th>\n",
       "      <th>distcode</th>\n",
       "      <th>distname</th>\n",
       "      <th>distarea</th>\n",
       "      <th>totalpopul</th>\n",
       "      <th>totalhh</th>\n",
       "      <th>totpopmale</th>\n",
       "      <th>totpopfema</th>\n",
       "      <th>st_areasha</th>\n",
       "      <th>st_lengths</th>\n",
       "      <th>geometry</th>\n",
       "    </tr>\n",
       "  </thead>\n",
       "  <tbody>\n",
       "    <tr>\n",
       "      <th>0</th>\n",
       "      <td>1</td>\n",
       "      <td>05</td>\n",
       "      <td>Uttarakhand</td>\n",
       "      <td>STATE</td>\n",
       "      <td>066</td>\n",
       "      <td>Nainital</td>\n",
       "      <td>4251.0</td>\n",
       "      <td>954605.0</td>\n",
       "      <td>191383.0</td>\n",
       "      <td>493666.0</td>\n",
       "      <td>460939.0</td>\n",
       "      <td>5.322546e+09</td>\n",
       "      <td>506182.695952</td>\n",
       "      <td>POLYGON ((79.52659 29.05543, 79.52550 29.05545...</td>\n",
       "    </tr>\n",
       "    <tr>\n",
       "      <th>1</th>\n",
       "      <td>2</td>\n",
       "      <td>05</td>\n",
       "      <td>Uttarakhand</td>\n",
       "      <td>STATE</td>\n",
       "      <td>060</td>\n",
       "      <td>Dehradun</td>\n",
       "      <td>3088.0</td>\n",
       "      <td>1696694.0</td>\n",
       "      <td>347001.0</td>\n",
       "      <td>892199.0</td>\n",
       "      <td>804495.0</td>\n",
       "      <td>4.177236e+09</td>\n",
       "      <td>578188.681639</td>\n",
       "      <td>POLYGON ((77.87557 30.26052, 77.87467 30.26087...</td>\n",
       "    </tr>\n",
       "    <tr>\n",
       "      <th>2</th>\n",
       "      <td>3</td>\n",
       "      <td>05</td>\n",
       "      <td>Uttarakhand</td>\n",
       "      <td>STATE</td>\n",
       "      <td>064</td>\n",
       "      <td>Almora</td>\n",
       "      <td>3144.0</td>\n",
       "      <td>622506.0</td>\n",
       "      <td>140577.0</td>\n",
       "      <td>291081.0</td>\n",
       "      <td>331425.0</td>\n",
       "      <td>4.140751e+09</td>\n",
       "      <td>463454.225766</td>\n",
       "      <td>POLYGON ((79.28494 29.92735, 79.28495 29.92723...</td>\n",
       "    </tr>\n",
       "    <tr>\n",
       "      <th>3</th>\n",
       "      <td>4</td>\n",
       "      <td>05</td>\n",
       "      <td>Uttarakhand</td>\n",
       "      <td>STATE</td>\n",
       "      <td>065</td>\n",
       "      <td>Champawat</td>\n",
       "      <td>1766.0</td>\n",
       "      <td>259648.0</td>\n",
       "      <td>53953.0</td>\n",
       "      <td>131125.0</td>\n",
       "      <td>128523.0</td>\n",
       "      <td>2.294297e+09</td>\n",
       "      <td>314508.010612</td>\n",
       "      <td>POLYGON ((80.12479 29.01308, 80.12481 29.01306...</td>\n",
       "    </tr>\n",
       "    <tr>\n",
       "      <th>4</th>\n",
       "      <td>5</td>\n",
       "      <td>05</td>\n",
       "      <td>Uttarakhand</td>\n",
       "      <td>STATE</td>\n",
       "      <td>056</td>\n",
       "      <td>Uttarkashi</td>\n",
       "      <td>8016.0</td>\n",
       "      <td>330086.0</td>\n",
       "      <td>67602.0</td>\n",
       "      <td>168597.0</td>\n",
       "      <td>161489.0</td>\n",
       "      <td>1.085166e+10</td>\n",
       "      <td>786425.588972</td>\n",
       "      <td>POLYGON ((78.92267 31.25333, 78.93106 31.26840...</td>\n",
       "    </tr>\n",
       "  </tbody>\n",
       "</table>\n",
       "</div>"
      ],
      "text/plain": [
       "   objectid statecode    statename state_ut distcode    distname  distarea  \\\n",
       "0         1        05  Uttarakhand    STATE      066    Nainital    4251.0   \n",
       "1         2        05  Uttarakhand    STATE      060    Dehradun    3088.0   \n",
       "2         3        05  Uttarakhand    STATE      064      Almora    3144.0   \n",
       "3         4        05  Uttarakhand    STATE      065   Champawat    1766.0   \n",
       "4         5        05  Uttarakhand    STATE      056  Uttarkashi    8016.0   \n",
       "\n",
       "   totalpopul   totalhh  totpopmale  totpopfema    st_areasha     st_lengths  \\\n",
       "0    954605.0  191383.0    493666.0    460939.0  5.322546e+09  506182.695952   \n",
       "1   1696694.0  347001.0    892199.0    804495.0  4.177236e+09  578188.681639   \n",
       "2    622506.0  140577.0    291081.0    331425.0  4.140751e+09  463454.225766   \n",
       "3    259648.0   53953.0    131125.0    128523.0  2.294297e+09  314508.010612   \n",
       "4    330086.0   67602.0    168597.0    161489.0  1.085166e+10  786425.588972   \n",
       "\n",
       "                                            geometry  \n",
       "0  POLYGON ((79.52659 29.05543, 79.52550 29.05545...  \n",
       "1  POLYGON ((77.87557 30.26052, 77.87467 30.26087...  \n",
       "2  POLYGON ((79.28494 29.92735, 79.28495 29.92723...  \n",
       "3  POLYGON ((80.12479 29.01308, 80.12481 29.01306...  \n",
       "4  POLYGON ((78.92267 31.25333, 78.93106 31.26840...  "
      ]
     },
     "execution_count": 3,
     "metadata": {},
     "output_type": "execute_result"
    }
   ],
   "source": [
    "shp.head()"
   ]
  },
  {
   "cell_type": "code",
   "execution_count": 4,
   "id": "bd39e346",
   "metadata": {},
   "outputs": [
    {
     "name": "stdout",
     "output_type": "stream",
     "text": [
      "No. of districts in shapefile = 686\n"
     ]
    }
   ],
   "source": [
    "# Districts in shp\n",
    "shp_distname = np.unique(shp['distname'])\n",
    "print('No. of districts in shapefile = %d'% (len(shp_distname)))"
   ]
  },
  {
   "cell_type": "code",
   "execution_count": 5,
   "id": "e6e27ddd",
   "metadata": {},
   "outputs": [
    {
     "name": "stdout",
     "output_type": "stream",
     "text": [
      "No. of districts in .csv file = 506\n"
     ]
    }
   ],
   "source": [
    "# Load .csv file of agriculture data.\n",
    "df = pd.read_csv('../Final_data/rice_yield.csv')\n",
    "\n",
    "# Districts in df\n",
    "df_distname = np.unique(df['Dist Name'])\n",
    "print('No. of districts in .csv file = %d'% (len(df_distname)))"
   ]
  },
  {
   "cell_type": "code",
   "execution_count": 6,
   "id": "07328392",
   "metadata": {},
   "outputs": [
    {
     "data": {
      "text/plain": [
       "array(['Adilabad', 'Agra', 'Ahmedabad', 'Ahmednagar', 'Ajmer', 'Akola',\n",
       "       'Alappuzha', 'Aligarh', 'Alirajpur', 'Allahabad'], dtype=object)"
      ]
     },
     "execution_count": 6,
     "metadata": {},
     "output_type": "execute_result"
    }
   ],
   "source": [
    "df_distname[:10]"
   ]
  },
  {
   "cell_type": "markdown",
   "id": "af4db0f2",
   "metadata": {},
   "source": [
    "Let's look for district names in our `.csv` file that lack a case-insensitive counterpart in the shapefile."
   ]
  },
  {
   "cell_type": "code",
   "execution_count": 7,
   "id": "ab6733c5",
   "metadata": {},
   "outputs": [
    {
     "name": "stdout",
     "output_type": "stream",
     "text": [
      "Total no. of district names apparently missing in shapefile = 126\n"
     ]
    }
   ],
   "source": [
    "missing_districts = []\n",
    "\n",
    "for dist in df_distname:\n",
    "    if dist not in shp_distname:\n",
    "        missing_districts.append(dist)\n",
    "print('Total no. of district names apparently missing in shapefile = %d'% (len(missing_districts)))        "
   ]
  },
  {
   "cell_type": "markdown",
   "id": "dce9a86d",
   "metadata": {},
   "source": [
    "Are these 126 districts really not in the shapefile? For example, let's check for `Ahmedabad` in the shapefile."
   ]
  },
  {
   "cell_type": "code",
   "execution_count": 8,
   "id": "d70212e4",
   "metadata": {},
   "outputs": [
    {
     "data": {
      "text/plain": [
       "array(['Adilabad', 'Agra', 'Ahmadabad', 'Ahmadnagar', 'Aizawl', 'Ajmer',\n",
       "       'Akola', 'Alappuzha', 'Aligarh', 'Alirajpur'], dtype=object)"
      ]
     },
     "execution_count": 8,
     "metadata": {},
     "output_type": "execute_result"
    }
   ],
   "source": [
    "shp_distname[:10]"
   ]
  },
  {
   "cell_type": "markdown",
   "id": "049c3632",
   "metadata": {},
   "source": [
    "It turns out that our shapefile contains a district `Ahmadabad`, which is just an alternate spelling of Ahmedabad. Let's construct a dictionary matching district names in the shapefile to those in our `.csv` file."
   ]
  },
  {
   "cell_type": "code",
   "execution_count": 9,
   "id": "3aef46ad",
   "metadata": {},
   "outputs": [],
   "source": [
    "# Dictionary matching shapefile district to .csv district\n",
    "dict_matches = {'Ahmadabad': 'Ahmedabad',\n",
    "                'Ahmadnagar': 'Ahmednagar',\n",
    "                'Almora': 'Almorah',\n",
    "                'Amravati': 'Amarawati',\n",
    "                'Amethi': 'Amethi C.S.M.Nagar',\n",
    "                'Jyotiba Phule Nagar': 'Amroha J.B.Fulenagar',\n",
    "                'Anugul': 'Angul',\n",
    "                'Bagalkot': 'Bagalkote',\n",
    "                'Baghpat': 'Bagpat',\n",
    "                'Baleshwar': 'Balasore',\n",
    "                'Banas Kantha': 'Banaskantha',\n",
    "                'Bangalore Rural': 'Bangalore(Rural)',\n",
    "                'Bangalore': 'Bangalore(Urban)',\n",
    "                'Bara Banki': 'Barabanki',\n",
    "                'Bid': 'Beed',\n",
    "                'Kaimur (Bhabua)': 'Bhabhua Kaimur',\n",
    "                'Bathinda': 'Bhatinda',\n",
    "                'Bilaspur': 'Bilashpur',\n",
    "                'Balangir': 'Bolangir',\n",
    "                'Baudh': 'Boudh',\n",
    "                'Bulandshahr': 'Buland Shahar',\n",
    "                'Buldana': 'Buldhana',\n",
    "                'Chamarajanagar': 'Chamaraja Nagar',\n",
    "                'Purba Champaran': 'Champaran(East)',\n",
    "                'Pashchim Champaran': 'Champaran(West',\n",
    "                'Champawat': 'Champavat',\n",
    "                'Kancheepuram': 'Chengalpattu MGR Kancheepuram',\n",
    "                'Chikmagalur': 'Chickmagalur',\n",
    "                'Thoothukkudi': 'Chidambanar Toothukudi',\n",
    "                'Chikkaballapura': 'Chikkaballapur',\n",
    "                'Chittaurgarh': 'Chittorgarh',\n",
    "                'Dohad': 'Dahod',\n",
    "                'The Dangs': 'Dangs',\n",
    "                'Dakshin Bastar Dantewada': 'Dantewara',\n",
    "                'Deoghar': 'Deogarh',\n",
    "                'Debagarh': 'Devghar Deogarh',\n",
    "                'Dhaulpur': 'Dholpur',\n",
    "                'Dindigul': 'Dindigul Anna',\n",
    "                'Ernakulam': 'Eranakulam',\n",
    "                'Firozpur': 'Ferozpur',\n",
    "                'Gautam Buddha Nagar': 'G.B.Nagar',\n",
    "                'Garhwa': 'Gadva Garhwa',\n",
    "                'Gondiya': 'Gondia',\n",
    "                'Hardwar': 'Haridwar',\n",
    "                'Mahamaya Nagar': 'Hathras',\n",
    "                'Hisar': 'Hissar',\n",
    "                'Hydrabad': 'Hyderabad',\n",
    "                'Janjgir-Champa': 'Janjgir',\n",
    "                'Jhunjhunun': 'Jhunjhunu',\n",
    "                'Kadapa(YSR)': 'Kadapa YSR',\n",
    "                'Uttar Bastar Kanker': 'Kanker',\n",
    "                'Kanniyakumari': 'Kanyakumari',\n",
    "                'Karauli': 'Karoli',\n",
    "                'Kanshiram Nagar': 'Kasganj Khansi Ram Nagar',\n",
    "                'Kabeerdham': 'Kawardha',\n",
    "                'Kendujhar': 'Keonjhar',\n",
    "                'Khandwa (East Nimar)': 'Khandwa',\n",
    "                'Khargone (West Nimar)': 'Khargone',\n",
    "                'Kodarma': 'Khodrama Koderma',\n",
    "                'Khordha': 'Khurda',\n",
    "                'Kaushambi': 'Kushambi',\n",
    "                'Kushinagar': 'Kushi Nagar Padrauna',\n",
    "                'Lohardaga': 'Lohardagga',\n",
    "                'Mahasamund': 'Mahasmund',\n",
    "                'Mahrajganj': 'Mahrajgani',\n",
    "                'Morigaon': 'Marigaon',\n",
    "                'Mayurbhanj': 'Mayurbhanja',\n",
    "                'Mahesana': 'Mehsana',\n",
    "                'Mirzapur': 'Mirzpur',\n",
    "                'Mumbai': 'Mumbai City',\n",
    "                'Munger': 'Mungair',\n",
    "                'Mungeli': 'Mungli',\n",
    "                'Narsimhapur': 'Narsinghpur',\n",
    "                'Nashik': 'Nasik',\n",
    "                'Nabarangapur': 'Nawarangpur',\n",
    "                'Vellore': 'North Arcot Vellore',\n",
    "                'Dima Hasao': 'North Cachar Hil',\n",
    "                'Pakur': 'Pakund Pakur',\n",
    "                'Palamu': 'Palamau',\n",
    "                'Panch Mahals': 'Panchmahal',\n",
    "                'Perambalur': 'Perambular',\n",
    "                'Erode': 'Periyar(Erode)',\n",
    "                'Kandhamal': 'Phulbani(Kandhamal)',\n",
    "                'Pithoragarh': 'Pithorgarh',\n",
    "                'Purnia': 'Purnea',\n",
    "                'Rae Bareli': 'Rae - Bareily',\n",
    "                'Ramanagara': 'Ramanagaram',\n",
    "                'Ramanathapuram': 'Ramananthapuram',\n",
    "                'Ramgarh': 'Ramgadh',\n",
    "                'Rupnagar': 'Roopnagar',\n",
    "                'Sahibzada Ajit Singh Nagar': 'S.A.S Nagar',\n",
    "                'Shahid Bhagat Singh Nagar': 'S.B.S Nagar',\n",
    "                'Sri Potti Sriramulu Nellore': 'S.P.S.Nellore',\n",
    "                'Sabar Kantha': 'Sabarkantha',\n",
    "                'Sahibganj': 'Sahebganj',\n",
    "                'Sant Kabir Nagar': 'Santh Kabir Nagar',\n",
    "                'Sant Ravidas Nagar (Bhadohi)': 'Santh Ravi Das Nagar Bhadoi',\n",
    "                'Dumka': 'Santhal Paragana Dumka',\n",
    "                'Saraikela-Kharsawan': 'Sariakela Kharsawan',\n",
    "                'Samli': 'Shamli',\n",
    "                'Sheikhpura': 'Sheikapura',\n",
    "                'Sheopur': 'Sheopur Kalan',\n",
    "                'Shimoga': 'Shimoge',\n",
    "                'Shrawasti': 'Shravasti',\n",
    "                'Muktsar': 'Shri Mukatsar Sahib',\n",
    "                'Sivasagar': 'Sibsagar',\n",
    "                'Siddharthnagar': 'Sidharthnagar',\n",
    "                'Purbi Singhbhum': 'Singhbhum East',\n",
    "                'Pashchimi Singhbhum': 'Singhbhum West',\n",
    "                'Sivaganga': 'Sivagangai Pasumpon',\n",
    "                'Sonipat': 'Sonepat',\n",
    "                'Subarnapur': 'Sonepur',\n",
    "                'Cuddalore': 'South Arcot Cuddalore',\n",
    "                'Sawai Madhopur': 'Swami Madhopur',\n",
    "                'Tarn Taran': 'Taran Taran',\n",
    "                'Tirunelveli': 'Thirunelveli',\n",
    "                'Tiruppur': 'Thiruppur',\n",
    "                'Tiruvannamalai': 'Thiruvannamalai',\n",
    "                'Tiruchirappalli': 'Tiruchirapalli Trichy',\n",
    "                'Thiruvarur': 'Tiruvarur',\n",
    "                'Uttarkashi': 'Uttar Kashi',\n",
    "                'Viluppuram': 'Villupuram',\n",
    "                'Virudhunagar': 'Virudhunagar Kamarajar',\n",
    "                'Warangal (R)': 'Warangal',\n",
    "                'Yadgir': 'Yadagiri',\n",
    "                'Yavatmal': 'Yeotmal'}"
   ]
  },
  {
   "cell_type": "code",
   "execution_count": 10,
   "id": "6c687c47",
   "metadata": {},
   "outputs": [
    {
     "name": "stdout",
     "output_type": "stream",
     "text": [
      "Replacement complete\n"
     ]
    }
   ],
   "source": [
    "# Replace district names in shp.\n",
    "for key in dict_matches.keys():\n",
    "    shp.loc[shp['distname']==key, 'distname'] = dict_matches[key]\n",
    "print('Replacement complete')"
   ]
  },
  {
   "cell_type": "code",
   "execution_count": 11,
   "id": "c4a94707",
   "metadata": {},
   "outputs": [
    {
     "name": "stdout",
     "output_type": "stream",
     "text": [
      "Total no. of district names apparently missing in shapefile = 0\n"
     ]
    }
   ],
   "source": [
    "# Check for any further discrepancies in district names between shp and df\n",
    "anymore_disc = []\n",
    "shp_distname = np.unique(shp['distname'])\n",
    "\n",
    "for dist in df_distname:\n",
    "    if dist not in shp_distname:\n",
    "        anymore_disc.append(dist)\n",
    "print('Total no. of district names apparently missing in shapefile = %d'% (len(anymore_disc)))"
   ]
  },
  {
   "cell_type": "markdown",
   "id": "cc4b9c96",
   "metadata": {},
   "source": [
    "That's a relief. Let's now write the updated shape file to disk."
   ]
  },
  {
   "cell_type": "code",
   "execution_count": 12,
   "id": "47046de0",
   "metadata": {},
   "outputs": [],
   "source": [
    "shp.to_file('../Final_data/districts2020_updated.shp')"
   ]
  }
 ],
 "metadata": {
  "kernelspec": {
   "display_name": "Python 3 (ipykernel)",
   "language": "python",
   "name": "python3"
  },
  "language_info": {
   "codemirror_mode": {
    "name": "ipython",
    "version": 3
   },
   "file_extension": ".py",
   "mimetype": "text/x-python",
   "name": "python",
   "nbconvert_exporter": "python",
   "pygments_lexer": "ipython3",
   "version": "3.9.7"
  }
 },
 "nbformat": 4,
 "nbformat_minor": 5
}
