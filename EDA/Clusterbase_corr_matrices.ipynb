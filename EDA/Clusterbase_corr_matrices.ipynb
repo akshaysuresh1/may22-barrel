{
 "cells": [
  {
   "cell_type": "code",
   "execution_count": 1,
   "id": "ce556ed0",
   "metadata": {},
   "outputs": [],
   "source": [
    "import pandas as pd\n",
    "import numpy as np\n",
    "import matplotlib.pyplot as plt\n",
    "import sklearn \n",
    "from seaborn import set_style\n",
    "from pandas.plotting import scatter_matrix\n",
    "import os\n",
    "\n",
    "set_style(\"whitegrid\")"
   ]
  },
  {
   "cell_type": "code",
   "execution_count": 4,
   "id": "bc7bd08c",
   "metadata": {},
   "outputs": [
    {
     "name": "stdout",
     "output_type": "stream",
     "text": [
      "Index(['Unnamed: 0', 'Dist Code', 'prec_grow_av', 'prec_harvest_av',\n",
      "       'et_grow_av', 'et_harvest_av', 'maxT_grow_av', 'maxT_harvest_av',\n",
      "       'minT_grow_av', 'minT_harvest_av', 'windspeed_grow_av',\n",
      "       'windspeed_harvest_av', 'KM5_clusterN_(maxT_growth_maxT_harvest)'],\n",
      "      dtype='object')\n"
     ]
    }
   ],
   "source": [
    "df = pd.read_csv('../Final_data/rice_yield_KMeans_averaged.csv')\n",
    "\n",
    "print(df.columns)"
   ]
  },
  {
   "cell_type": "markdown",
   "id": "4651deee",
   "metadata": {},
   "source": [
    "## Correlation matrix for the KMean clusterization, where k = 5"
   ]
  },
  {
   "cell_type": "code",
   "execution_count": null,
   "id": "4ee70191",
   "metadata": {},
   "outputs": [],
   "source": []
  }
 ],
 "metadata": {
  "kernelspec": {
   "display_name": "Python 3 (ipykernel)",
   "language": "python",
   "name": "python3"
  },
  "language_info": {
   "codemirror_mode": {
    "name": "ipython",
    "version": 3
   },
   "file_extension": ".py",
   "mimetype": "text/x-python",
   "name": "python",
   "nbconvert_exporter": "python",
   "pygments_lexer": "ipython3",
   "version": "3.9.7"
  }
 },
 "nbformat": 4,
 "nbformat_minor": 5
}
