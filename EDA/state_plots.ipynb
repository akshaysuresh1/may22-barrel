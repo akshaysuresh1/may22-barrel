{
 "cells": [
  {
   "cell_type": "markdown",
   "metadata": {
    "id": "tFZ94V-36rTk"
   },
   "source": [
    "In this notebook, we plot the total yield for a chosen state (Uttar Pradesh) vs different parameters. Different data points correspond to different years.\n",
    "- If a parameter is extensive, e.g. given in total units used (for example, fertilizers are given in tonnes), the x value is just a sum over all districts.\n",
    "- If a parameter is intensive (for example, precipitation), the x value is a scalar product of the parameter and used area per district. "
   ]
  },
  {
   "cell_type": "code",
   "execution_count": 31,
   "metadata": {
    "colab": {
     "base_uri": "https://localhost:8080/",
     "height": 276
    },
    "id": "9Iu4R3vAv0Fk",
    "outputId": "ae191884-7894-404d-ec30-a9775675a138"
   },
   "outputs": [
    {
     "data": {
      "image/png": "[encoded data removed]",
      "text/plain": [
       "<Figure size 432x288 with 1 Axes>"
      ]
     },
     "metadata": {
      "needs_background": "light"
     },
     "output_type": "display_data"
    }
   ],
   "source": [
    "import numpy as np\n",
    "import pandas as pd\n",
    "import matplotlib.pyplot as plt\n",
    "from pandas.tseries.offsets import DateOffset\n",
    "# from os import listdir\n",
    "# from os.path import isfile, join\n",
    "import os\n",
    "\n",
    "os. chdir('../Raw_data')\n",
    "# data_dir = \".\"\n",
    "\n",
    "# user-defined fields\n",
    "state_name = \"Uttar Pradesh\"\n",
    "start_year = 1990\n",
    "end_year = 2015\n",
    "\n",
    "data_all = pd.read_csv(\"rice_yield.csv\")\n",
    "mask = (data_all['State Name'] == state_name) & (data_all['Year'] >= start_year) & (data_all['Year'] <= end_year)\n",
    "data_all = data_all.loc[mask]\n"
   ]
  },
  {
   "cell_type": "markdown",
   "metadata": {
    "id": "jYJfa-UN_J9J"
   },
   "source": [
    "Plotting data for nitrogen usage:"
   ]
  },
  {
   "cell_type": "code",
   "execution_count": 33,
   "metadata": {
    "colab": {
     "base_uri": "https://localhost:8080/",
     "height": 276
    },
    "id": "Y5yVyqpv_MaO",
    "outputId": "9ec33791-6817-48e4-d567-8c194af92a28"
   },
   "outputs": [
    {
     "data": {
      "image/png": "[encoded data removed]",
      "text/plain": [
       "<Figure size 432x288 with 1 Axes>"
      ]
     },
     "metadata": {
      "needs_background": "light"
     },
     "output_type": "display_data"
    }
   ],
   "source": [
    "x=[]\n",
    "y=[]\n",
    "for j in range (start_year, end_year +1):\n",
    "    mask = (data_all['Year'] == j)\n",
    "    # x.append(np.sum(np.dot(data_all.loc[mask][\"RICE AREA (1000 ha)\"],data_all.loc[mask][\"prec_growth\"])))\n",
    "    x.append(np.sum(data_all.loc[mask][\"nitrogen\"]))\n",
    "    y.append(np.sum(np.dot(data_all.loc[mask][\"RICE AREA (1000 ha)\"],data_all.loc[mask][\"RICE YIELD (kg per ha)\"])))\n",
    "\n",
    "# plotting\n",
    "plt.plot(x, y, 'bo')\n",
    "plt.show()"
   ]
  },
  {
   "cell_type": "markdown",
   "metadata": {
    "id": "oRRRgq9B_PEE"
   },
   "source": [
    "Plotting data for phosphate usage:"
   ]
  },
  {
   "cell_type": "code",
   "execution_count": 32,
   "metadata": {
    "colab": {
     "base_uri": "https://localhost:8080/",
     "height": 276
    },
    "id": "-FGIBYLk-1_S",
    "outputId": "fc2cfac4-13a0-478e-98b0-fea92d9d31cd"
   },
   "outputs": [
    {
     "data": {
      "image/png": "[encoded data removed]",
      "text/plain": [
       "<Figure size 432x288 with 1 Axes>"
      ]
     },
     "metadata": {
      "needs_background": "light"
     },
     "output_type": "display_data"
    }
   ],
   "source": [
    "x=[]\n",
    "y=[]\n",
    "for j in range (start_year, end_year +1):\n",
    "    mask = (data_all['Year'] == j)\n",
    "    # x.append(np.sum(np.dot(data_all.loc[mask][\"RICE AREA (1000 ha)\"],data_all.loc[mask][\"prec_growth\"])))\n",
    "    x.append(np.sum(data_all.loc[mask][\"phosphate\"]))\n",
    "    y.append(np.sum(np.dot(data_all.loc[mask][\"RICE AREA (1000 ha)\"],data_all.loc[mask][\"RICE YIELD (kg per ha)\"])))\n",
    "\n",
    "# plotting\n",
    "plt.plot(x, y, 'bo')\n",
    "plt.show()"
   ]
  },
  {
   "cell_type": "markdown",
   "metadata": {
    "id": "8ggGtqSb_3Ze"
   },
   "source": [
    "Now, for potash usage:"
   ]
  },
  {
   "cell_type": "code",
   "execution_count": 34,
   "metadata": {
    "colab": {
     "base_uri": "https://localhost:8080/",
     "height": 276
    },
    "id": "3aRjZ-kS_6bk",
    "outputId": "0b5da2f7-82a9-452f-cffb-6f0d068435b4"
   },
   "outputs": [
    {
     "data": {
      "image/png": "[encoded data removed]",
      "text/plain": [
       "<Figure size 432x288 with 1 Axes>"
      ]
     },
     "metadata": {
      "needs_background": "light"
     },
     "output_type": "display_data"
    }
   ],
   "source": [
    "x=[]\n",
    "y=[]\n",
    "for j in range (start_year, end_year +1):\n",
    "    mask = (data_all['Year'] == j)\n",
    "    # x.append(np.sum(np.dot(data_all.loc[mask][\"RICE AREA (1000 ha)\"],data_all.loc[mask][\"prec_growth\"])))\n",
    "    x.append(np.sum(data_all.loc[mask][\"potash\"]))\n",
    "    y.append(np.sum(np.dot(data_all.loc[mask][\"RICE AREA (1000 ha)\"],data_all.loc[mask][\"RICE YIELD (kg per ha)\"])))\n",
    "\n",
    "# plotting\n",
    "plt.plot(x, y, 'bo')\n",
    "plt.show()"
   ]
  },
  {
   "cell_type": "markdown",
   "metadata": {
    "id": "wDWgiFOq8_En"
   },
   "source": [
    "Total yield correlates with usage of nitrogen and phosphate, but not potash."
   ]
  },
  {
   "cell_type": "code",
   "execution_count": null,
   "metadata": {},
   "outputs": [],
   "source": []
  }
 ],
 "metadata": {
  "colab": {
   "collapsed_sections": [],
   "name": "state_plots.ipynb",
   "provenance": []
  },
  "kernelspec": {
   "display_name": "Python 3 (ipykernel)",
   "language": "python",
   "name": "python3"
  },
  "language_info": {
   "codemirror_mode": {
    "name": "ipython",
    "version": 3
   },
   "file_extension": ".py",
   "mimetype": "text/x-python",
   "name": "python",
   "nbconvert_exporter": "python",
   "pygments_lexer": "ipython3",
   "version": "3.9.7"
  }
 },
 "nbformat": 4,
 "nbformat_minor": 1
}
